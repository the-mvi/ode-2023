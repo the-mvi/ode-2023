{
  "cells": [
    {
      "cell_type": "markdown",
      "metadata": {
        "id": "XpU457kVOYpm"
      },
      "source": [
        "# Практическая работа №1: Краевая задача для уравнения II-го порядка\n",
        "\n",
        "Выполнил студент гр. 0382 Кондратов Юрий, вариант 9."
      ]
    },
    {
      "cell_type": "markdown",
      "metadata": {
        "id": "18tsPYgcOYpn"
      },
      "source": [
        "## Цель работы\n",
        "\n",
        "Научиться применять дифференциальные уравнения в различных областях, решать краевую задачу для уравнения II-го порядка путём многократного решения задачи Коши."
      ]
    },
    {
      "cell_type": "markdown",
      "metadata": {
        "id": "HdyijrQsOYpo"
      },
      "source": [
        "## Основные теоретические положения"
      ]
    },
    {
      "cell_type": "markdown",
      "source": [
        "Краевая задача состоит в нахождении соответствующего краевым условиям решения ДУ. Для ДУ II-го порядка краевая задача имеет вид:\n",
        "$$\\begin{cases} y'' = f(x, y', y)\\\\ y(x_0) = y_0\\\\ y(x_1) = y_1. \\end{cases}$$\n",
        "\n",
        "Задача Коши состоит в нахождении соответствующего начальным условиям решения ДУ. Для ДУ II-го порядка задача Коши имеет вид:\n",
        "$$\\begin{cases} y'' = f(x, y', y)\\\\ y(x_0) = y_0\\\\ y'(x_0) = y_1. \\end{cases}$$\n",
        "\n",
        "При помощи замены $z_0 = y, z_1 = y'$ данную систему можно привести к виду:\n",
        "$$\\begin{cases} z_1' = f(x, z_1, z_0)\\\\ z_0' = z_1\\\\ z_0(x_0) = y_0\\\\ z_1(x_0) = y_1. \\end{cases}$$"
      ],
      "metadata": {
        "id": "4uxiVbBDTywc"
      }
    },
    {
      "cell_type": "markdown",
      "metadata": {
        "id": "-59RxwAROYpo"
      },
      "source": [
        "## Постановка задачи"
      ]
    },
    {
      "cell_type": "markdown",
      "source": [
        "Дано дифференциальное уравнение:\n",
        "$$𝑦′′ = cos(xy), \\quad a < 𝑥 < b \\quad (1)$$\n",
        "и граничные условия\n",
        "$$𝑦(a) = y_a, \\quad 𝑦(b) = y_b. \\quad (2)$$\n",
        "\n",
        "Требуется найти решение задачи (1)-(2) и построить его график.\n",
        "Рассмотрим задачу Коши для уравнения (1) с начальными условиями\n",
        "$$𝑦(a) = y_a, \\quad 𝑦′(a) = ℎ. \\quad (3)$$\n",
        "\n",
        "План решения основан на многократном решении задачи Коши $(1)$, $(3)$.\n",
        "Значение решения задачи Коши при $𝑥 = b$ является функцией от $ℎ$.\n",
        "Задача сводится к отысканию такого значения переменной $ℎ$, при котором выполнено условие на правом конце отрезка, т.е. должно выполняться\n",
        "$$𝑦(b, ℎ) = 2. \\quad (4)$$\n",
        "\n",
        "Это уравнение с одним неизвестным $ℎ$.\n",
        "Для его решения можно применить стандартный метод половинного\n",
        "деления."
      ],
      "metadata": {
        "id": "YTBHkypoTvNW"
      }
    },
    {
      "cell_type": "markdown",
      "metadata": {
        "id": "BGZvdfVWOYpp"
      },
      "source": [
        "## Выполнение работы\n"
      ]
    },
    {
      "cell_type": "code",
      "source": [
        "import math\n",
        "import matplotlib.pyplot as plt\n",
        "from scipy.integrate import solve_ivp\n",
        "from numpy import arange"
      ],
      "metadata": {
        "id": "rfWXAEKNl-Fw"
      },
      "execution_count": 291,
      "outputs": []
    },
    {
      "cell_type": "markdown",
      "source": [
        "\n",
        "Начальные данные: $a = 0$, $b = 2$, $y_a = 1$, $y_b = 2$."
      ],
      "metadata": {
        "id": "pA2kM1cel099"
      }
    },
    {
      "cell_type": "code",
      "source": [
        "a = 0\n",
        "y_a = 1\n",
        "b = 2\n",
        "y_b = 2\n",
        "epsilon = 0.001"
      ],
      "metadata": {
        "id": "Qec8-n_-UvwZ"
      },
      "execution_count": 292,
      "outputs": []
    },
    {
      "cell_type": "markdown",
      "source": [
        "Произведём замену $z_0 = y, z_1 = y'$ и представим изначальное уравнение в виде системы:\n",
        "$$\\begin{cases} z_0' = z_1\\\\ z_1' = cos(xz_0)\\\\ z_0(a) = y_a\\\\ z_1(a) = h_0. \\end{cases}$$"
      ],
      "metadata": {
        "id": "1J7N74ugTsK2"
      }
    },
    {
      "cell_type": "code",
      "source": [
        "def f(x, z):\n",
        "  return [z[1], math.cos(x * z[0])]"
      ],
      "metadata": {
        "id": "L1b19S5SVS5Z"
      },
      "execution_count": 293,
      "outputs": []
    },
    {
      "cell_type": "markdown",
      "source": [
        "Зададим $h_0$. И найдём значение решения задачи Коши в точке $b$:"
      ],
      "metadata": {
        "id": "-yXBEI4Xk-JE"
      }
    },
    {
      "cell_type": "code",
      "source": [
        "def y_bh(h): \n",
        "  return solve_ivp(f, [a, b], [y_a, h]).y[0][-1]\n",
        "\n",
        "h_0 = 0\n",
        "y_bh_0 = y_bh(h_0)\n",
        "y_bh_0"
      ],
      "metadata": {
        "colab": {
          "base_uri": "https://localhost:8080/"
        },
        "id": "pXwPnjbQlDXn",
        "outputId": "8141753f-6d12-4dc9-fccb-afc551920fbe"
      },
      "execution_count": 294,
      "outputs": [
        {
          "output_type": "execute_result",
          "data": {
            "text/plain": [
              "1.9369542874398211"
            ]
          },
          "metadata": {},
          "execution_count": 294
        }
      ]
    },
    {
      "cell_type": "markdown",
      "source": [
        "Выберем $\\Delta h$ и зададим направление шага. Направление выберем то, которое даёт нужное приращение $\\Delta y$ ($\\Delta y > 0$, если $y(b, h_0) < y_b$ и $\\Delta y < 0$ иначе). "
      ],
      "metadata": {
        "id": "X152o6Ocmh7e"
      }
    },
    {
      "cell_type": "code",
      "source": [
        "dh = 0.00005\n",
        "if ((y_bh_0 - y_bh(h_0 - dh)) * (y_bh_0 - y_b) > 0):\n",
        "  dh = -dh\n",
        "dh"
      ],
      "metadata": {
        "colab": {
          "base_uri": "https://localhost:8080/"
        },
        "id": "mna3P51lmhFT",
        "outputId": "1365b36d-f370-4a44-e3dc-622718f1bdf1"
      },
      "execution_count": 295,
      "outputs": [
        {
          "output_type": "execute_result",
          "data": {
            "text/plain": [
              "5e-05"
            ]
          },
          "metadata": {},
          "execution_count": 295
        }
      ]
    },
    {
      "cell_type": "markdown",
      "source": [
        "Найдём значение $h$, при котором меняется знак неравенства между $y(b, h)$ и $y_b$."
      ],
      "metadata": {
        "id": "AzmuoajirGfj"
      }
    },
    {
      "cell_type": "code",
      "source": [
        "h = h_0 + dh\n",
        "y_bh_n = y_bh(h)\n",
        "while (y_bh_n - b) * (y_bh_0 - y_b) >= 0:\n",
        "  h += dh\n",
        "  y_bh_n = y_bh(h)\n",
        "h"
      ],
      "metadata": {
        "colab": {
          "base_uri": "https://localhost:8080/"
        },
        "id": "DjSOrNGrrFt7",
        "outputId": "11fa3659-5549-45d4-c41c-a760daef9860"
      },
      "execution_count": 296,
      "outputs": [
        {
          "output_type": "execute_result",
          "data": {
            "text/plain": [
              "0.04905000000000089"
            ]
          },
          "metadata": {},
          "execution_count": 296
        }
      ]
    },
    {
      "cell_type": "markdown",
      "source": [
        "Проверим, достаточно ли близко теперь $y(b, h)$ к $y_b$."
      ],
      "metadata": {
        "id": "yseCwp9lzHeE"
      }
    },
    {
      "cell_type": "code",
      "source": [
        "abs(y_bh_n - y_b) < epsilon"
      ],
      "metadata": {
        "colab": {
          "base_uri": "https://localhost:8080/"
        },
        "id": "xigPWcUyzYnl",
        "outputId": "d21a52f2-39ea-4b5a-bde2-71e96398aaf1"
      },
      "execution_count": 297,
      "outputs": [
        {
          "output_type": "execute_result",
          "data": {
            "text/plain": [
              "True"
            ]
          },
          "metadata": {},
          "execution_count": 297
        }
      ]
    },
    {
      "cell_type": "markdown",
      "source": [
        "Построим график полученного решения на отрезке $[a, b]$."
      ],
      "metadata": {
        "id": "iZSHuo6R0RsV"
      }
    },
    {
      "cell_type": "code",
      "source": [
        "sol = solve_ivp(f, [a, b], [y_a, h], t_eval=arange(a, b, 0.01))\n",
        "plt.plot(sol.t, sol.y[0])\n",
        "plt.xlabel(\"x\")\n",
        "plt.xlabel(\"y\")\n",
        "plt.show()"
      ],
      "metadata": {
        "colab": {
          "base_uri": "https://localhost:8080/",
          "height": 279
        },
        "id": "SMgyv1RS0YJ9",
        "outputId": "87c77bb0-d611-4e11-ef18-b00f322312ec"
      },
      "execution_count": 298,
      "outputs": [
        {
          "output_type": "display_data",
          "data": {
            "text/plain": [
              "<Figure size 432x288 with 1 Axes>"
            ],
            "image/png": "[encoded data removed]"
          },
          "metadata": {
            "needs_background": "light"
          }
        }
      ]
    },
    {
      "cell_type": "markdown",
      "metadata": {
        "id": "fdKfjWoHOYpq"
      },
      "source": [
        "## Выводы\n",
        "\n",
        "В ходе работы путём многократного решения задачи Коши была решена краевая задача для дифференциального уравнения II-го порядка."
      ]
    }
  ],
  "metadata": {
    "kernelspec": {
      "display_name": "Python 3",
      "language": "python",
      "name": "python3"
    },
    "language_info": {
      "codemirror_mode": {
        "name": "ipython",
        "version": 3
      },
      "file_extension": ".py",
      "mimetype": "text/x-python",
      "name": "python",
      "nbconvert_exporter": "python",
      "pygments_lexer": "ipython3",
      "version": "3.8.10"
    },
    "colab": {
      "provenance": []
    }
  },
  "nbformat": 4,
  "nbformat_minor": 0
}