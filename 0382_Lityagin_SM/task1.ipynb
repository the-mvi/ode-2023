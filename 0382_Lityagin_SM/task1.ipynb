{
  "cells": [
    {
      "cell_type": "markdown",
      "metadata": {
        "id": "YySr6QMciJz9"
      },
      "source": [
        "# Практическая работа №1: Краевая задача для уравнения II-го порядка\n",
        "\n",
        "Выполнил студент гр. 0382 Литягин Семён, вариант 13."
      ]
    },
    {
      "cell_type": "markdown",
      "metadata": {
        "id": "0MKckTRViJ0A"
      },
      "source": [
        "## Цель работы\n",
        "\n",
        "Научиться применять дифференциальные уравнения в различных областях, решать краевую задачу для уравнения II-го порядка путём многократного решения задачи Коши."
      ]
    },
    {
      "cell_type": "markdown",
      "metadata": {
        "id": "-Ixed_7KiJ0A"
      },
      "source": [
        "## Основные теоретические положения\n",
        "\n",
        "Краевая задача для дифференциального уравнения II-го порядка: $y''=f(x,y,y'), a ≤ x ≤ y$, $y(a) = y_a, y(b) = y_b$.\n",
        "Задача Коши для дифференциального уравнения II-го порядка:\n",
        "\\begin{cases}\n",
        "y'' = f(x,y, y')\\\\\n",
        "y(x_0) = y_0\\\\\n",
        "y'(x_0) = y_1\n",
        "\\end{cases}\n",
        "Пусть $y' = z$, тогда задача Коши будет записана в следующем виде:  \n",
        "\\begin{cases}\n",
        "z' = f(x,y,z)\\\\\n",
        "y' = z \\\\\n",
        "y(x_0) = y_0 \\\\\n",
        "z(x_0) = y_1\n",
        "\\end{cases}  \n",
        "\n",
        "**Способ решения:**   \n",
        "Решать систему будем численно с применением численного дифференцирования.  \n",
        "Метод Эйлера: пусть задано $y' = f(x,y)$. Тогда решение задается следующей системой:\n",
        "\\begin{cases}\n",
        "y_{i+1} = y_i + dt*f(x_i,y_i)\\\\\n",
        "x_{i+1} = x_i + dt\n",
        "\\end{cases}\n",
        "Для ее решения соответсвенно нужно знать $y(x_0) = y_0$.   \n",
        "Возвращаясь к нашей задаче, система будет представлена в виде: \n",
        "\\begin{cases}\n",
        "z_{i+1} = z_i + dt*f(x_i,y_i)\\\\\n",
        "y_{i+1} = y_i + dt*z_i\\\\ \n",
        "x_{i+1} = x_i + dt\n",
        "\\end{cases}\n",
        "Для решения данной системы известно: $x_0 = a, y_0 = y(a) = y_a$, но неизвестно $z_0 = y'(a) = h$. Нужно подобрать такое $h$, чтобы $y(b) = y_b$."
      ]
    },
    {
      "cell_type": "markdown",
      "metadata": {
        "id": "3byjbhPpiJ0B"
      },
      "source": [
        "## Постановка задачи\n",
        "\n",
        "Дано дифференциальное уравнение $y''=f(x,y), a<x<b$ и граничные условия $y(a)=y_a, y(b)=y_b$. Требуется найти решение данной задачи и построить его график.\n",
        "\n",
        "Вариант 13: $f(x,y) = y^2ln(x+1), y_a=3, y_b=-3$"
      ]
    },
    {
      "cell_type": "markdown",
      "metadata": {
        "id": "wuT74_kDiJ0B"
      },
      "source": [
        "## Выполнение работы\n",
        "\n",
        "По возможности каждый пункт работы выполняется с помощью кода. Рекомендуемые языки программирования для выполнения работы - Octave, Python, R, SageMath."
      ]
    },
    {
      "cell_type": "code",
      "execution_count": 55,
      "metadata": {
        "id": "8wCDAFX3iJ0B"
      },
      "outputs": [],
      "source": [
        "import numpy as np\n",
        "import matplotlib.pyplot as plt\n",
        "\n",
        "EMPTY_RESULT = \"ниче нету\"\n",
        "\n",
        "#задали z'\n",
        "def f(x, y):\n",
        "  return y**2*np.log(x+1)\n",
        "\n",
        "#задаем класс оптимайзера, что будет искать удовлетворяющее нас h\n",
        "class Optimizer:\n",
        "  #инициализация;\n",
        "  #под X понимается вектор (z_i, y_i, x_i)\n",
        "  def __init__(self, f, a, b, ya, yb, h):\n",
        "    self.f = f\n",
        "    self.a = a\n",
        "    self.b = b\n",
        "    self.ya = ya\n",
        "    self.yb = yb\n",
        "    self.init_X(h)\n",
        "  \n",
        "  def init_X(self, h):\n",
        "    self.h = h\n",
        "    self.X = np.array([h, self.ya, self.a])\n",
        "\n",
        "  #шаг метода Эйлера\n",
        "  def euler_step(self, dt):\n",
        "    try:\n",
        "      X = self.X\n",
        "      return X + dt*np.array([f(X[2],X[1]), X[0], 1])\n",
        "    except Exception as e:\n",
        "      print(e)\n",
        "      return None\n",
        "  \n",
        "  #выполняет заданное число шагов метода Эйлера от a до b\n",
        "  #возвращает массив с результатами каждого шага\n",
        "  def solve_equation(self, steps):\n",
        "    if(steps < 2 or not isinstance(steps, int)):\n",
        "      raise Exception(\"Девачки, шаги должны быть целыми и >=2\")\n",
        "\n",
        "    dt = (self.a + self.b)/steps\n",
        "    history = [self.X]\n",
        "    for i in np.linspace(self.a, self.b, steps):\n",
        "      self.X = self.euler_step(dt)\n",
        "      if self.X is None:\n",
        "        raise Exception(\"Девачки, мы упали\")\n",
        "      history.append(self.X)\n",
        "    return np.array(history).T\n",
        "\n",
        "  #выполняет нахождение таких (h1, h2), чтобы y(b,h1) < y_b < y(b,h2) \n",
        "  def optimize(self, dh):\n",
        "    h0, yb0, x0 = self.solve_equation(10).T[-1]\n",
        "    for i in range(100):\n",
        "      self.h += dh\n",
        "      self.init_X(self.h)\n",
        "      h, yb, x = self.solve_equation(10).T[-1]\n",
        "\n",
        "      if yb0 < self.yb and yb > self.yb:\n",
        "        return self.bisection(self.h-dh, self.h)\n",
        "      elif yb0 > self.yb and yb < self.yb:\n",
        "        return self.bisection(self.h, self.h-dh)\n",
        "\n",
        "      if((yb0 < yb and yb < self.yb)or (yb0 > yb and yb > self.yb)):\n",
        "        continue\n",
        "      \n",
        "      #случай, когда за шаги отошли от yb лишь дальше \n",
        "      if((yb0 > yb and yb0 < self.yb) or (yb0 < yb and yb0 > self.yb)):\n",
        "        dh = -dh\n",
        "      h0 = h\n",
        "      yb0 = yb\n",
        "    return EMPTY_RESULT\n",
        "  \n",
        "  #для нахождения более узкого интервала (h1,h2)\n",
        "  def bisection(self, ha, hb):\n",
        "    for i in range(100):\n",
        "      self.init_X(ha)\n",
        "      h, yb_a, x = self.solve_equation(10).T[-1]\n",
        "\n",
        "      self.init_X(hb)\n",
        "      h, yb_b, x = self.solve_equation(10).T[-1]\n",
        "\n",
        "      if abs(yb_b - yb_a) > 0.001:\n",
        "        hc = (hb+ha)/2\n",
        "        self.init_X(hc)\n",
        "        h, yb_c, x = self.solve_equation(10).T[-1]\n",
        "        if yb_c < self.yb:\n",
        "          ha = hc\n",
        "        else:\n",
        "          hb = hc\n",
        "      else:\n",
        "        break\n",
        "    return (ha, hb)"
      ]
    },
    {
      "cell_type": "code",
      "source": [
        "#задаем наугад h\n",
        "h = -3.5\n",
        "ya = 3\n",
        "yb = -3\n",
        "a = 0\n",
        "b = 2"
      ],
      "metadata": {
        "id": "kgsUB5-U-vLE"
      },
      "execution_count": null,
      "outputs": []
    },
    {
      "cell_type": "code",
      "source": [
        "optimizer = Optimizer(f, a, b, ya, yb, h)\n",
        "\n",
        "result = optimizer.optimize(0.2)\n",
        "if(result == \"ниче нету\"):\n",
        "  print(\"шото не то\")\n",
        "else:\n",
        "  optimizer.init_X(result[0])\n",
        "  hist1 = optimizer.solve_equation(10)\n",
        "\n",
        "  optimizer.init_X(result[1])\n",
        "  hist2 = optimizer.solve_equation(10)\n",
        "\n",
        "  print(\"Значение y'(a) = h содержится в интервале ({}, {})\".format(hist1[0][0],hist2[0][0]))\n",
        "  print(\"y'(a) = h = {}, y(b,h) = {}\".format(hist1[0][0], hist1[1][-1]))\n",
        "  print(\"y'(a) = h = {}, y(b,h) = {}\".format(hist2[0][0], hist2[1][-1]))\n",
        "\n",
        "  plt.plot(hist1[2],hist1[1])\n",
        "  plt.plot(hist2[2],hist2[1])\n",
        "  plt.xlabel(\"x\")\n",
        "  plt.ylabel(\"y\")\n",
        "  plt.show()\n"
      ],
      "metadata": {
        "colab": {
          "base_uri": "https://localhost:8080/",
          "height": 331
        },
        "id": "izli0rSW-z9m",
        "outputId": "71bf5397-3d25-40e4-c405-4b8f2dab8157"
      },
      "execution_count": 56,
      "outputs": [
        {
          "output_type": "stream",
          "name": "stdout",
          "text": [
            "Значение y'(a) = h содержится в интервале (-3.55390625, -3.5535156249999997)\n",
            "y'(a) = h = -3.55390625, y(b,h) = -3.0004987517589963\n",
            "y'(a) = h = -3.5535156249999997, y(b,h) = -2.9999591224090647\n"
          ]
        },
        {
          "output_type": "display_data",
          "data": {
            "text/plain": [
              "<Figure size 432x288 with 1 Axes>"
            ],
            "image/png": "[encoded data removed]"
          },
          "metadata": {
            "needs_background": "light"
          }
        }
      ]
    },
    {
      "cell_type": "markdown",
      "metadata": {
        "id": "jHeVpn7OiJ0C"
      },
      "source": [
        "## Выводы\n",
        "\n",
        "В ходе работы были приобретены навыки применения дифференциальных уравнений в различных областях, а также навыки решения краевой задачи для уравнения II-го порядка путём многократного решения задачи Коши."
      ]
    }
  ],
  "metadata": {
    "kernelspec": {
      "display_name": "Python 3",
      "language": "python",
      "name": "python3"
    },
    "language_info": {
      "codemirror_mode": {
        "name": "ipython",
        "version": 3
      },
      "file_extension": ".py",
      "mimetype": "text/x-python",
      "name": "python",
      "nbconvert_exporter": "python",
      "pygments_lexer": "ipython3",
      "version": "3.8.10"
    },
    "colab": {
      "provenance": []
    }
  },
  "nbformat": 4,
  "nbformat_minor": 0
}